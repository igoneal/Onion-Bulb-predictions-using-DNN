{
 "cells": [
  {
   "cell_type": "code",
   "execution_count": 1,
   "id": "8a53b981",
   "metadata": {},
   "outputs": [],
   "source": [
    "import math\n",
    "import pandas as pd\n",
    "import tensorflow as tf\n",
    "from tensorflow import keras\n",
    "from tensorflow.keras import layers\n",
    "import matplotlib.pyplot as plt\n",
    "from tensorflow.keras import Model\n",
    "from tensorflow.keras import Sequential\n",
    "from tensorflow.keras.optimizers import Adam\n",
    "from sklearn.preprocessing import StandardScaler\n",
    "from tensorflow.keras.layers import Dense, Dropout\n",
    "from sklearn.model_selection import train_test_split\n",
    "from tensorflow.keras.losses import MeanSquaredLogarithmicError\n",
    "from tensorflow.keras.losses import MeanSquaredError, MeanAbsoluteError\n",
    "from sklearn.metrics import accuracy_score\n",
    "TRAIN_DATA_PATH = 'NFT_G_dataset-PTC_training.csv'\n",
    "TEST_DATA_PATH = 'NFT_G_dataset-PTC_test.csv'\n",
    "TARGET_NAME = 'Diameter of Bulb(mm)'"
   ]
  },
  {
   "cell_type": "code",
   "execution_count": 2,
   "id": "542ef471",
   "metadata": {},
   "outputs": [],
   "source": [
    "# x_train = features, y_train = target\n",
    "train_data = pd.read_csv(TRAIN_DATA_PATH)\n",
    "test_data = pd.read_csv(TEST_DATA_PATH)\n",
    "x_train, y_train = train_data.drop(TARGET_NAME, axis=1), train_data[TARGET_NAME]\n",
    "x_test, y_test = test_data.drop(TARGET_NAME, axis=1), test_data[TARGET_NAME]"
   ]
  },
  {
   "cell_type": "code",
   "execution_count": 3,
   "id": "993918d2",
   "metadata": {},
   "outputs": [],
   "source": [
    "\"\"\"\n",
    "  Standard Scale test and train data\n",
    "  Z - Score normalization\n",
    "  \"\"\"\n",
    "def scale_datasets(x_train, x_test):\n",
    "    standard_scaler = StandardScaler()\n",
    "    x_train_scaled = pd.DataFrame(standard_scaler.fit_transform(x_train),columns=x_train.columns)\n",
    "    x_test_scaled = pd.DataFrame(standard_scaler.transform(x_test),columns = x_test.columns)\n",
    "    return x_train_scaled, x_test_scaled\n",
    "x_train_scaled, x_test_scaled = scale_datasets(x_train, x_test)"
   ]
  },
  {
   "cell_type": "code",
   "execution_count": 4,
   "id": "c338bc95",
   "metadata": {},
   "outputs": [],
   "source": [
    "hidden_units1 = 160\n",
    "hidden_units2 = 320\n",
    "hidden_units3 = 256\n",
    "learning_rate = 0.01\n",
    "# Creating model using the Sequential in tensorflow\n",
    "def build_model_using_sequential():\n",
    "  model = Sequential([\n",
    "    Dense(hidden_units1, kernel_initializer='normal', activation='relu'),\n",
    "    Dropout(0.2),\n",
    "    Dense(hidden_units2, kernel_initializer='normal', activation='relu'),\n",
    "    Dropout(0.2),\n",
    "    Dense(hidden_units3, kernel_initializer='normal', activation='relu'),\n",
    "    Dense(1, kernel_initializer='normal', activation='linear')\n",
    "  ])\n",
    "  return model\n",
    "# build the model\n",
    "model = build_model_using_sequential()"
   ]
  },
  {
   "cell_type": "code",
   "execution_count": 5,
   "id": "7ee97326",
   "metadata": {},
   "outputs": [
    {
     "name": "stdout",
     "output_type": "stream",
     "text": [
      "Epoch 1/100\n",
      "2/2 [==============================] - 1s 361ms/step - loss: 531.2623 - mean_squared_error: 527.0265 - val_loss: 1125.4889 - val_mean_squared_error: 1125.4889\n",
      "Epoch 2/100\n",
      "2/2 [==============================] - 0s 60ms/step - loss: 211.1976 - mean_squared_error: 198.7562 - val_loss: 204.4241 - val_mean_squared_error: 204.4241\n",
      "Epoch 3/100\n",
      "2/2 [==============================] - 0s 43ms/step - loss: 286.4031 - mean_squared_error: 263.8471 - val_loss: 187.4659 - val_mean_squared_error: 187.4659\n",
      "Epoch 4/100\n",
      "2/2 [==============================] - 0s 49ms/step - loss: 63.0273 - mean_squared_error: 67.7381 - val_loss: 436.2281 - val_mean_squared_error: 436.2281\n",
      "Epoch 5/100\n",
      "2/2 [==============================] - 0s 41ms/step - loss: 146.4946 - mean_squared_error: 146.3291 - val_loss: 380.2002 - val_mean_squared_error: 380.2002\n",
      "Epoch 6/100\n",
      "2/2 [==============================] - 0s 41ms/step - loss: 122.0711 - mean_squared_error: 121.1108 - val_loss: 190.4695 - val_mean_squared_error: 190.4695\n",
      "Epoch 7/100\n",
      "2/2 [==============================] - 0s 45ms/step - loss: 102.2314 - mean_squared_error: 101.1001 - val_loss: 136.1761 - val_mean_squared_error: 136.1761\n",
      "Epoch 8/100\n",
      "2/2 [==============================] - 0s 31ms/step - loss: 77.9884 - mean_squared_error: 77.3087 - val_loss: 258.8209 - val_mean_squared_error: 258.8209\n",
      "Epoch 9/100\n",
      "2/2 [==============================] - 0s 33ms/step - loss: 26.0308 - mean_squared_error: 24.9370 - val_loss: 407.4902 - val_mean_squared_error: 407.4902\n",
      "Epoch 10/100\n",
      "2/2 [==============================] - 0s 45ms/step - loss: 19.9670 - mean_squared_error: 20.0835 - val_loss: 385.5130 - val_mean_squared_error: 385.5130\n",
      "Epoch 11/100\n",
      "2/2 [==============================] - 0s 25ms/step - loss: 43.7187 - mean_squared_error: 44.4245 - val_loss: 257.7708 - val_mean_squared_error: 257.7708\n",
      "Epoch 12/100\n",
      "2/2 [==============================] - 0s 25ms/step - loss: 29.7621 - mean_squared_error: 29.2186 - val_loss: 119.9354 - val_mean_squared_error: 119.9354\n",
      "Epoch 13/100\n",
      "2/2 [==============================] - 0s 26ms/step - loss: 16.0268 - mean_squared_error: 16.0969 - val_loss: 67.4858 - val_mean_squared_error: 67.4858\n",
      "Epoch 14/100\n",
      "2/2 [==============================] - 0s 30ms/step - loss: 14.9695 - mean_squared_error: 14.8776 - val_loss: 68.5952 - val_mean_squared_error: 68.5952\n",
      "Epoch 15/100\n",
      "2/2 [==============================] - 0s 31ms/step - loss: 14.6528 - mean_squared_error: 14.9870 - val_loss: 75.4776 - val_mean_squared_error: 75.4776\n",
      "Epoch 16/100\n",
      "2/2 [==============================] - 0s 26ms/step - loss: 12.5033 - mean_squared_error: 12.6634 - val_loss: 119.4453 - val_mean_squared_error: 119.4453\n",
      "Epoch 17/100\n",
      "2/2 [==============================] - 0s 33ms/step - loss: 10.2730 - mean_squared_error: 10.0133 - val_loss: 178.9032 - val_mean_squared_error: 178.9032\n",
      "Epoch 18/100\n",
      "2/2 [==============================] - 0s 28ms/step - loss: 7.8741 - mean_squared_error: 7.5981 - val_loss: 227.5471 - val_mean_squared_error: 227.5471\n",
      "Epoch 19/100\n",
      "2/2 [==============================] - 0s 40ms/step - loss: 12.6352 - mean_squared_error: 12.3838 - val_loss: 257.1882 - val_mean_squared_error: 257.1882\n",
      "Epoch 20/100\n",
      "2/2 [==============================] - 0s 28ms/step - loss: 10.1481 - mean_squared_error: 10.1909 - val_loss: 238.3853 - val_mean_squared_error: 238.3853\n",
      "Epoch 21/100\n",
      "2/2 [==============================] - 0s 27ms/step - loss: 8.1514 - mean_squared_error: 8.0113 - val_loss: 179.1344 - val_mean_squared_error: 179.1344\n",
      "Epoch 22/100\n",
      "2/2 [==============================] - 0s 31ms/step - loss: 6.9403 - mean_squared_error: 6.9971 - val_loss: 119.0188 - val_mean_squared_error: 119.0188\n",
      "Epoch 23/100\n",
      "2/2 [==============================] - 0s 23ms/step - loss: 6.6354 - mean_squared_error: 6.6155 - val_loss: 98.4863 - val_mean_squared_error: 98.4863\n",
      "Epoch 24/100\n",
      "2/2 [==============================] - 0s 33ms/step - loss: 9.3018 - mean_squared_error: 9.0826 - val_loss: 139.3910 - val_mean_squared_error: 139.3910\n",
      "Epoch 25/100\n",
      "2/2 [==============================] - 0s 31ms/step - loss: 8.4044 - mean_squared_error: 8.2352 - val_loss: 196.1256 - val_mean_squared_error: 196.1256\n",
      "Epoch 26/100\n",
      "2/2 [==============================] - 0s 33ms/step - loss: 7.4432 - mean_squared_error: 7.3878 - val_loss: 203.8402 - val_mean_squared_error: 203.8402\n",
      "Epoch 27/100\n",
      "2/2 [==============================] - 0s 26ms/step - loss: 4.6072 - mean_squared_error: 4.6940 - val_loss: 199.9867 - val_mean_squared_error: 199.9867\n",
      "Epoch 28/100\n",
      "2/2 [==============================] - 0s 27ms/step - loss: 5.2543 - mean_squared_error: 5.5298 - val_loss: 193.0477 - val_mean_squared_error: 193.0477\n",
      "Epoch 29/100\n",
      "2/2 [==============================] - 0s 25ms/step - loss: 6.8242 - mean_squared_error: 6.7165 - val_loss: 222.1782 - val_mean_squared_error: 222.1782\n",
      "Epoch 30/100\n",
      "2/2 [==============================] - 0s 30ms/step - loss: 7.1139 - mean_squared_error: 6.9213 - val_loss: 180.9248 - val_mean_squared_error: 180.9248\n",
      "Epoch 31/100\n",
      "2/2 [==============================] - 0s 25ms/step - loss: 6.0176 - mean_squared_error: 5.9272 - val_loss: 152.8123 - val_mean_squared_error: 152.8123\n",
      "Epoch 32/100\n",
      "2/2 [==============================] - 0s 37ms/step - loss: 5.6699 - mean_squared_error: 5.6776 - val_loss: 166.5083 - val_mean_squared_error: 166.5083\n",
      "Epoch 33/100\n",
      "2/2 [==============================] - 0s 29ms/step - loss: 3.5825 - mean_squared_error: 3.4821 - val_loss: 199.2028 - val_mean_squared_error: 199.2028\n",
      "Epoch 34/100\n",
      "2/2 [==============================] - 0s 28ms/step - loss: 6.6838 - mean_squared_error: 6.6372 - val_loss: 187.0044 - val_mean_squared_error: 187.0044\n",
      "Epoch 35/100\n",
      "2/2 [==============================] - 0s 28ms/step - loss: 4.0782 - mean_squared_error: 4.0443 - val_loss: 164.6322 - val_mean_squared_error: 164.6322\n",
      "Epoch 36/100\n",
      "2/2 [==============================] - 0s 29ms/step - loss: 3.9547 - mean_squared_error: 3.8370 - val_loss: 166.3597 - val_mean_squared_error: 166.3597\n",
      "Epoch 37/100\n",
      "2/2 [==============================] - 0s 36ms/step - loss: 5.3696 - mean_squared_error: 5.2818 - val_loss: 177.6980 - val_mean_squared_error: 177.6980\n",
      "Epoch 38/100\n",
      "2/2 [==============================] - 0s 30ms/step - loss: 4.8753 - mean_squared_error: 4.9679 - val_loss: 167.6705 - val_mean_squared_error: 167.6705\n",
      "Epoch 39/100\n",
      "2/2 [==============================] - 0s 40ms/step - loss: 4.8638 - mean_squared_error: 4.7717 - val_loss: 183.5712 - val_mean_squared_error: 183.5712\n",
      "Epoch 40/100\n",
      "2/2 [==============================] - 0s 42ms/step - loss: 4.7112 - mean_squared_error: 4.8774 - val_loss: 223.0850 - val_mean_squared_error: 223.0850\n",
      "Epoch 41/100\n",
      "2/2 [==============================] - 0s 50ms/step - loss: 4.7087 - mean_squared_error: 4.8144 - val_loss: 237.6209 - val_mean_squared_error: 237.6209\n",
      "Epoch 42/100\n",
      "2/2 [==============================] - 0s 46ms/step - loss: 5.4429 - mean_squared_error: 5.5060 - val_loss: 202.5239 - val_mean_squared_error: 202.5239\n",
      "Epoch 43/100\n",
      "2/2 [==============================] - 0s 47ms/step - loss: 3.7883 - mean_squared_error: 3.8338 - val_loss: 173.2869 - val_mean_squared_error: 173.2869\n",
      "Epoch 44/100\n",
      "2/2 [==============================] - 0s 34ms/step - loss: 5.5302 - mean_squared_error: 5.7223 - val_loss: 186.3600 - val_mean_squared_error: 186.3600\n",
      "Epoch 45/100\n",
      "2/2 [==============================] - 0s 48ms/step - loss: 5.6378 - mean_squared_error: 5.6311 - val_loss: 245.4610 - val_mean_squared_error: 245.4610\n",
      "Epoch 46/100\n",
      "2/2 [==============================] - 0s 46ms/step - loss: 6.9066 - mean_squared_error: 6.8216 - val_loss: 230.4701 - val_mean_squared_error: 230.4701\n",
      "Epoch 47/100\n",
      "2/2 [==============================] - 0s 51ms/step - loss: 3.0463 - mean_squared_error: 3.0314 - val_loss: 212.4955 - val_mean_squared_error: 212.4955\n",
      "Epoch 48/100\n",
      "2/2 [==============================] - 0s 42ms/step - loss: 4.2116 - mean_squared_error: 4.2587 - val_loss: 209.1951 - val_mean_squared_error: 209.1951\n",
      "Epoch 49/100\n",
      "2/2 [==============================] - 0s 37ms/step - loss: 4.4977 - mean_squared_error: 4.5931 - val_loss: 220.6445 - val_mean_squared_error: 220.6445\n",
      "Epoch 50/100\n"
     ]
    },
    {
     "name": "stdout",
     "output_type": "stream",
     "text": [
      "2/2 [==============================] - 0s 26ms/step - loss: 3.1587 - mean_squared_error: 3.1067 - val_loss: 221.0670 - val_mean_squared_error: 221.0670\n",
      "Epoch 51/100\n",
      "2/2 [==============================] - 0s 26ms/step - loss: 3.7790 - mean_squared_error: 3.8556 - val_loss: 195.8128 - val_mean_squared_error: 195.8128\n",
      "Epoch 52/100\n",
      "2/2 [==============================] - 0s 37ms/step - loss: 3.1403 - mean_squared_error: 3.1417 - val_loss: 181.5856 - val_mean_squared_error: 181.5856\n",
      "Epoch 53/100\n",
      "2/2 [==============================] - 0s 19ms/step - loss: 4.2412 - mean_squared_error: 4.2831 - val_loss: 200.1382 - val_mean_squared_error: 200.1382\n",
      "Epoch 54/100\n",
      "2/2 [==============================] - 0s 58ms/step - loss: 3.8516 - mean_squared_error: 3.9600 - val_loss: 213.8242 - val_mean_squared_error: 213.8242\n",
      "Epoch 55/100\n",
      "2/2 [==============================] - 0s 45ms/step - loss: 3.4236 - mean_squared_error: 3.4841 - val_loss: 213.5494 - val_mean_squared_error: 213.5494\n",
      "Epoch 56/100\n",
      "2/2 [==============================] - 0s 54ms/step - loss: 4.0030 - mean_squared_error: 3.9136 - val_loss: 187.2403 - val_mean_squared_error: 187.2403\n",
      "Epoch 57/100\n",
      "2/2 [==============================] - 0s 40ms/step - loss: 3.4697 - mean_squared_error: 3.4018 - val_loss: 180.8360 - val_mean_squared_error: 180.8360\n",
      "Epoch 58/100\n",
      "2/2 [==============================] - 0s 50ms/step - loss: 4.1375 - mean_squared_error: 4.2137 - val_loss: 185.4327 - val_mean_squared_error: 185.4327\n",
      "Epoch 59/100\n",
      "2/2 [==============================] - 0s 46ms/step - loss: 3.6304 - mean_squared_error: 3.5246 - val_loss: 202.3153 - val_mean_squared_error: 202.3153\n",
      "Epoch 60/100\n",
      "2/2 [==============================] - 0s 40ms/step - loss: 3.9690 - mean_squared_error: 4.1160 - val_loss: 238.7446 - val_mean_squared_error: 238.7446\n",
      "Epoch 61/100\n",
      "2/2 [==============================] - 0s 36ms/step - loss: 4.1297 - mean_squared_error: 4.1258 - val_loss: 232.2162 - val_mean_squared_error: 232.2162\n",
      "Epoch 62/100\n",
      "2/2 [==============================] - 0s 18ms/step - loss: 4.0487 - mean_squared_error: 4.0958 - val_loss: 230.4135 - val_mean_squared_error: 230.4135\n",
      "Epoch 63/100\n",
      "2/2 [==============================] - 0s 36ms/step - loss: 3.6378 - mean_squared_error: 3.5933 - val_loss: 242.4979 - val_mean_squared_error: 242.4979\n",
      "Epoch 64/100\n",
      "2/2 [==============================] - 0s 26ms/step - loss: 3.9747 - mean_squared_error: 3.9890 - val_loss: 192.7278 - val_mean_squared_error: 192.7278\n",
      "Epoch 65/100\n",
      "2/2 [==============================] - 0s 27ms/step - loss: 4.1862 - mean_squared_error: 4.1108 - val_loss: 131.1131 - val_mean_squared_error: 131.1131\n",
      "Epoch 66/100\n",
      "2/2 [==============================] - 0s 40ms/step - loss: 5.4959 - mean_squared_error: 5.4098 - val_loss: 178.4989 - val_mean_squared_error: 178.4989\n",
      "Epoch 67/100\n",
      "2/2 [==============================] - 0s 40ms/step - loss: 5.0333 - mean_squared_error: 5.2197 - val_loss: 243.2709 - val_mean_squared_error: 243.2709\n",
      "Epoch 68/100\n",
      "2/2 [==============================] - 0s 33ms/step - loss: 4.2753 - mean_squared_error: 4.1886 - val_loss: 198.6529 - val_mean_squared_error: 198.6529\n",
      "Epoch 69/100\n",
      "2/2 [==============================] - 0s 35ms/step - loss: 5.1800 - mean_squared_error: 5.1100 - val_loss: 182.5220 - val_mean_squared_error: 182.5220\n",
      "Epoch 70/100\n",
      "2/2 [==============================] - 0s 40ms/step - loss: 2.9721 - mean_squared_error: 2.9492 - val_loss: 214.0603 - val_mean_squared_error: 214.0603\n",
      "Epoch 71/100\n",
      "2/2 [==============================] - 0s 56ms/step - loss: 4.1047 - mean_squared_error: 4.1417 - val_loss: 220.4836 - val_mean_squared_error: 220.4836\n",
      "Epoch 72/100\n",
      "2/2 [==============================] - 0s 40ms/step - loss: 4.1576 - mean_squared_error: 4.1923 - val_loss: 215.0882 - val_mean_squared_error: 215.0882\n",
      "Epoch 73/100\n",
      "2/2 [==============================] - 0s 25ms/step - loss: 3.5373 - mean_squared_error: 3.5501 - val_loss: 279.2003 - val_mean_squared_error: 279.2003\n",
      "Epoch 74/100\n",
      "2/2 [==============================] - 0s 48ms/step - loss: 4.4568 - mean_squared_error: 4.4310 - val_loss: 268.2415 - val_mean_squared_error: 268.2415\n",
      "Epoch 75/100\n",
      "2/2 [==============================] - 0s 30ms/step - loss: 3.3311 - mean_squared_error: 3.3191 - val_loss: 191.4628 - val_mean_squared_error: 191.4628\n",
      "Epoch 76/100\n",
      "2/2 [==============================] - 0s 33ms/step - loss: 2.4158 - mean_squared_error: 2.3649 - val_loss: 148.6188 - val_mean_squared_error: 148.6188\n",
      "Epoch 77/100\n",
      "2/2 [==============================] - 0s 27ms/step - loss: 5.6070 - mean_squared_error: 5.4441 - val_loss: 168.6355 - val_mean_squared_error: 168.6355\n",
      "Epoch 78/100\n",
      "2/2 [==============================] - 0s 24ms/step - loss: 2.9317 - mean_squared_error: 2.9367 - val_loss: 188.0285 - val_mean_squared_error: 188.0285\n",
      "Epoch 79/100\n",
      "2/2 [==============================] - 0s 26ms/step - loss: 3.8980 - mean_squared_error: 3.8212 - val_loss: 204.4513 - val_mean_squared_error: 204.4513\n",
      "Epoch 80/100\n",
      "2/2 [==============================] - 0s 29ms/step - loss: 5.4843 - mean_squared_error: 5.3650 - val_loss: 258.7807 - val_mean_squared_error: 258.7807\n",
      "Epoch 81/100\n",
      "2/2 [==============================] - 0s 41ms/step - loss: 4.8824 - mean_squared_error: 4.6684 - val_loss: 216.4487 - val_mean_squared_error: 216.4487\n",
      "Epoch 82/100\n",
      "2/2 [==============================] - 0s 30ms/step - loss: 3.9430 - mean_squared_error: 3.9614 - val_loss: 192.0565 - val_mean_squared_error: 192.0565\n",
      "Epoch 83/100\n",
      "2/2 [==============================] - 0s 34ms/step - loss: 3.4242 - mean_squared_error: 3.4295 - val_loss: 253.3421 - val_mean_squared_error: 253.3421\n",
      "Epoch 84/100\n",
      "2/2 [==============================] - 0s 31ms/step - loss: 4.1605 - mean_squared_error: 4.1682 - val_loss: 286.6083 - val_mean_squared_error: 286.6083\n",
      "Epoch 85/100\n",
      "2/2 [==============================] - 0s 29ms/step - loss: 5.5059 - mean_squared_error: 5.5867 - val_loss: 228.9007 - val_mean_squared_error: 228.9007\n",
      "Epoch 86/100\n",
      "2/2 [==============================] - 0s 28ms/step - loss: 3.8559 - mean_squared_error: 3.8562 - val_loss: 209.4652 - val_mean_squared_error: 209.4652\n",
      "Epoch 87/100\n",
      "2/2 [==============================] - 0s 43ms/step - loss: 3.5655 - mean_squared_error: 3.6744 - val_loss: 161.4206 - val_mean_squared_error: 161.4206\n",
      "Epoch 88/100\n",
      "2/2 [==============================] - 0s 38ms/step - loss: 5.3978 - mean_squared_error: 5.4050 - val_loss: 171.6401 - val_mean_squared_error: 171.6401\n",
      "Epoch 89/100\n",
      "2/2 [==============================] - 0s 46ms/step - loss: 4.4065 - mean_squared_error: 4.3144 - val_loss: 228.5593 - val_mean_squared_error: 228.5593\n",
      "Epoch 90/100\n",
      "2/2 [==============================] - 0s 39ms/step - loss: 3.9495 - mean_squared_error: 4.0239 - val_loss: 245.0555 - val_mean_squared_error: 245.0555\n",
      "Epoch 91/100\n",
      "2/2 [==============================] - 0s 37ms/step - loss: 4.5419 - mean_squared_error: 4.5689 - val_loss: 250.7545 - val_mean_squared_error: 250.7545\n",
      "Epoch 92/100\n",
      "2/2 [==============================] - 0s 28ms/step - loss: 5.5137 - mean_squared_error: 5.5341 - val_loss: 241.6075 - val_mean_squared_error: 241.6075\n",
      "Epoch 93/100\n",
      "2/2 [==============================] - 0s 36ms/step - loss: 3.5500 - mean_squared_error: 3.5775 - val_loss: 191.3503 - val_mean_squared_error: 191.3503\n",
      "Epoch 94/100\n",
      "2/2 [==============================] - 0s 39ms/step - loss: 3.6242 - mean_squared_error: 3.6487 - val_loss: 231.2251 - val_mean_squared_error: 231.2251\n",
      "Epoch 95/100\n",
      "2/2 [==============================] - 0s 39ms/step - loss: 3.6331 - mean_squared_error: 3.7553 - val_loss: 206.7779 - val_mean_squared_error: 206.7779\n",
      "Epoch 96/100\n",
      "2/2 [==============================] - 0s 33ms/step - loss: 3.7199 - mean_squared_error: 3.7560 - val_loss: 175.9453 - val_mean_squared_error: 175.9453\n",
      "Epoch 97/100\n",
      "2/2 [==============================] - 0s 36ms/step - loss: 4.2339 - mean_squared_error: 4.1342 - val_loss: 238.5049 - val_mean_squared_error: 238.5049\n",
      "Epoch 98/100\n",
      "2/2 [==============================] - 0s 38ms/step - loss: 5.2929 - mean_squared_error: 5.1651 - val_loss: 201.0612 - val_mean_squared_error: 201.0612\n",
      "Epoch 99/100\n",
      "2/2 [==============================] - 0s 42ms/step - loss: 3.1220 - mean_squared_error: 3.0509 - val_loss: 167.4248 - val_mean_squared_error: 167.4248\n"
     ]
    },
    {
     "name": "stdout",
     "output_type": "stream",
     "text": [
      "Epoch 100/100\n",
      "2/2 [==============================] - 0s 38ms/step - loss: 4.8161 - mean_squared_error: 4.8662 - val_loss: 253.0602 - val_mean_squared_error: 253.0602\n",
      "CPU times: total: 3.05 s\n",
      "Wall time: 5.7 s\n"
     ]
    }
   ],
   "source": [
    "%%time\n",
    "# loss function\n",
    "#msle = MeanSquaredLogarithmicError()\n",
    "msle = MeanSquaredError()\n",
    "model.compile(\n",
    "    loss=msle, \n",
    "    optimizer=Adam(learning_rate=learning_rate), \n",
    "    metrics=[msle]\n",
    ")\n",
    "# train the model\n",
    "history = model.fit(\n",
    "    x_train_scaled.values, \n",
    "    y_train.values, \n",
    "    epochs=100, \n",
    "    batch_size=32,\n",
    "    validation_split=0.2\n",
    ")"
   ]
  },
  {
   "cell_type": "code",
   "execution_count": 6,
   "id": "9d7bd7e1",
   "metadata": {},
   "outputs": [
    {
     "data": {
      "image/png": "[encoded data removed]",
      "text/plain": [
       "<Figure size 432x288 with 1 Axes>"
      ]
     },
     "metadata": {
      "needs_background": "light"
     },
     "output_type": "display_data"
    }
   ],
   "source": [
    "def plot_history(history, key):\n",
    "  plt.plot(history.history[key])\n",
    "  plt.plot(history.history['val_'+key])\n",
    "  plt.title('DNN Mean squared error for NFT Hydroponics system')\n",
    "  plt.xlabel(\"Epochs\")\n",
    "  plt.ylabel(key)\n",
    "  plt.legend([key, 'val_'+key])\n",
    "  plt.show()\n",
    "# Plot the history\n",
    "#plot_history(history, 'mean_squared_logarithmic_error')\n",
    "plot_history(history, 'mean_squared_error')"
   ]
  },
  {
   "cell_type": "code",
   "execution_count": 7,
   "id": "5d6b4007",
   "metadata": {},
   "outputs": [
    {
     "data": {
      "image/png": "[encoded data removed]",
      "text/plain": [
       "<Figure size 432x288 with 1 Axes>"
      ]
     },
     "metadata": {
      "needs_background": "light"
     },
     "output_type": "display_data"
    }
   ],
   "source": [
    "def plot_history(history, key):\n",
    "  plt.plot(history.history[key])\n",
    "  plt.plot(history.history['val_'+key])\n",
    "  plt.xlabel(\"Epochs\")\n",
    "  plt.ylabel(key)\n",
    "  plt.legend([key, 'val_'+key])\n",
    "  plt.show()\n",
    "# Plot the history\n",
    "#plot_history(history, 'mean_squared_logarithmic_error')\n",
    "plot_history(history, 'loss')"
   ]
  },
  {
   "cell_type": "code",
   "execution_count": 8,
   "id": "77263b3b",
   "metadata": {},
   "outputs": [
    {
     "name": "stdout",
     "output_type": "stream",
     "text": [
      "1/1 [==============================] - 0s 120ms/step\n"
     ]
    }
   ],
   "source": [
    "#x_test['prediction'] = model.predict(x_test_scaled)\n",
    "prediction = model.predict(x_test_scaled)"
   ]
  },
  {
   "cell_type": "code",
   "execution_count": 9,
   "id": "18d45585",
   "metadata": {},
   "outputs": [
    {
     "data": {
      "text/plain": [
       "(18, 1)"
      ]
     },
     "execution_count": 9,
     "metadata": {},
     "output_type": "execute_result"
    }
   ],
   "source": [
    "prediction.shape"
   ]
  },
  {
   "cell_type": "code",
   "execution_count": null,
   "id": "a68f6e0f",
   "metadata": {},
   "outputs": [],
   "source": []
  },
  {
   "cell_type": "code",
   "execution_count": 10,
   "id": "32bd64f8",
   "metadata": {},
   "outputs": [
    {
     "ename": "SyntaxError",
     "evalue": "invalid syntax (1068564517.py, line 1)",
     "output_type": "error",
     "traceback": [
      "\u001b[1;36m  Input \u001b[1;32mIn [10]\u001b[1;36m\u001b[0m\n\u001b[1;33m    model.\u001b[0m\n\u001b[1;37m          ^\u001b[0m\n\u001b[1;31mSyntaxError\u001b[0m\u001b[1;31m:\u001b[0m invalid syntax\n"
     ]
    }
   ],
   "source": [
    "model."
   ]
  }
 ],
 "metadata": {
  "kernelspec": {
   "display_name": "Python 3 (ipykernel)",
   "language": "python",
   "name": "python3"
  },
  "language_info": {
   "codemirror_mode": {
    "name": "ipython",
    "version": 3
   },
   "file_extension": ".py",
   "mimetype": "text/x-python",
   "name": "python",
   "nbconvert_exporter": "python",
   "pygments_lexer": "ipython3",
   "version": "3.9.12"
  }
 },
 "nbformat": 4,
 "nbformat_minor": 5
}
