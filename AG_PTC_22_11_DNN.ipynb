{
 "cells": [
  {
   "cell_type": "code",
   "execution_count": 1,
   "id": "8a53b981",
   "metadata": {},
   "outputs": [],
   "source": [
    "import math\n",
    "import pandas as pd\n",
    "import tensorflow as tf\n",
    "from tensorflow import keras\n",
    "from tensorflow.keras import layers\n",
    "import matplotlib.pyplot as plt\n",
    "from tensorflow.keras import Model\n",
    "from tensorflow.keras import Sequential\n",
    "from tensorflow.keras.optimizers import Adam\n",
    "from sklearn.preprocessing import StandardScaler\n",
    "from tensorflow.keras.layers import Dense, Dropout\n",
    "from sklearn.model_selection import train_test_split\n",
    "from tensorflow.keras.losses import MeanSquaredLogarithmicError\n",
    "from tensorflow.keras.losses import MeanSquaredError, MeanAbsoluteError\n",
    "from sklearn.metrics import accuracy_score\n",
    "TRAIN_DATA_PATH = 'AG_G_dataset-PTC_training.csv'\n",
    "TEST_DATA_PATH = 'AG_G_dataset-PTC_test.csv'\n",
    "TARGET_NAME = 'Diameter of Bulb(mm)'"
   ]
  },
  {
   "cell_type": "code",
   "execution_count": 2,
   "id": "542ef471",
   "metadata": {},
   "outputs": [],
   "source": [
    "# x_train = features, y_train = target\n",
    "train_data = pd.read_csv(TRAIN_DATA_PATH)\n",
    "test_data = pd.read_csv(TEST_DATA_PATH)\n",
    "x_train, y_train = train_data.drop(TARGET_NAME, axis=1), train_data[TARGET_NAME]\n",
    "x_test, y_test = test_data.drop(TARGET_NAME, axis=1), test_data[TARGET_NAME]"
   ]
  },
  {
   "cell_type": "code",
   "execution_count": 3,
   "id": "993918d2",
   "metadata": {},
   "outputs": [],
   "source": [
    "\"\"\"\n",
    "  Standard Scale test and train data\n",
    "  Z - Score normalization\n",
    "  \"\"\"\n",
    "def scale_datasets(x_train, x_test):\n",
    "    standard_scaler = StandardScaler()\n",
    "    x_train_scaled = pd.DataFrame(standard_scaler.fit_transform(x_train),columns=x_train.columns)\n",
    "    x_test_scaled = pd.DataFrame(standard_scaler.transform(x_test),columns = x_test.columns)\n",
    "    return x_train_scaled, x_test_scaled\n",
    "x_train_scaled, x_test_scaled = scale_datasets(x_train, x_test)"
   ]
  },
  {
   "cell_type": "code",
   "execution_count": 4,
   "id": "c338bc95",
   "metadata": {},
   "outputs": [],
   "source": [
    "hidden_units1 = 160\n",
    "hidden_units2 = 320\n",
    "hidden_units3 = 256\n",
    "learning_rate = 0.01\n",
    "# Creating model using the Sequential in tensorflow\n",
    "def build_model_using_sequential():\n",
    "  model = Sequential([\n",
    "    Dense(hidden_units1, kernel_initializer='normal', activation='relu'),\n",
    "    Dropout(0.2),\n",
    "    Dense(hidden_units2, kernel_initializer='normal', activation='relu'),\n",
    "    Dropout(0.2),\n",
    "    Dense(hidden_units3, kernel_initializer='normal', activation='relu'),\n",
    "    Dense(1, kernel_initializer='normal', activation='linear')\n",
    "  ])\n",
    "  return model\n",
    "# build the model\n",
    "model = build_model_using_sequential()"
   ]
  },
  {
   "cell_type": "code",
   "execution_count": 5,
   "id": "7ee97326",
   "metadata": {},
   "outputs": [
    {
     "name": "stdout",
     "output_type": "stream",
     "text": [
      "Epoch 1/100\n",
      "2/2 [==============================] - 1s 266ms/step - loss: 1628.5339 - mean_squared_error: 1624.7722 - val_loss: 6412.8721 - val_mean_squared_error: 6412.8721\n",
      "Epoch 2/100\n",
      "2/2 [==============================] - 0s 58ms/step - loss: 982.7000 - mean_squared_error: 960.6388 - val_loss: 976.8382 - val_mean_squared_error: 976.8382\n",
      "Epoch 3/100\n",
      "2/2 [==============================] - 0s 40ms/step - loss: 353.2464 - mean_squared_error: 340.3186 - val_loss: 648.2806 - val_mean_squared_error: 648.2806\n",
      "Epoch 4/100\n",
      "2/2 [==============================] - 0s 30ms/step - loss: 144.9750 - mean_squared_error: 140.8817 - val_loss: 181.6681 - val_mean_squared_error: 181.6681\n",
      "Epoch 5/100\n",
      "2/2 [==============================] - 0s 41ms/step - loss: 250.4864 - mean_squared_error: 258.6904 - val_loss: 317.5755 - val_mean_squared_error: 317.5755\n",
      "Epoch 6/100\n",
      "2/2 [==============================] - 0s 44ms/step - loss: 248.1789 - mean_squared_error: 241.7686 - val_loss: 151.0481 - val_mean_squared_error: 151.0481\n",
      "Epoch 7/100\n",
      "2/2 [==============================] - 0s 53ms/step - loss: 162.7845 - mean_squared_error: 164.8187 - val_loss: 423.9584 - val_mean_squared_error: 423.9584\n",
      "Epoch 8/100\n",
      "2/2 [==============================] - 0s 29ms/step - loss: 139.0375 - mean_squared_error: 133.3425 - val_loss: 147.0019 - val_mean_squared_error: 147.0019\n",
      "Epoch 9/100\n",
      "2/2 [==============================] - 0s 27ms/step - loss: 72.4303 - mean_squared_error: 73.0097 - val_loss: 428.9626 - val_mean_squared_error: 428.9626\n",
      "Epoch 10/100\n",
      "2/2 [==============================] - 0s 30ms/step - loss: 85.1354 - mean_squared_error: 84.5902 - val_loss: 56.4434 - val_mean_squared_error: 56.4434\n",
      "Epoch 11/100\n",
      "2/2 [==============================] - 0s 27ms/step - loss: 84.3804 - mean_squared_error: 82.3013 - val_loss: 84.2727 - val_mean_squared_error: 84.2727\n",
      "Epoch 12/100\n",
      "2/2 [==============================] - 0s 37ms/step - loss: 57.8782 - mean_squared_error: 58.3766 - val_loss: 79.7095 - val_mean_squared_error: 79.7095\n",
      "Epoch 13/100\n",
      "2/2 [==============================] - 0s 30ms/step - loss: 25.6324 - mean_squared_error: 26.0682 - val_loss: 21.2662 - val_mean_squared_error: 21.2662\n",
      "Epoch 14/100\n",
      "2/2 [==============================] - 0s 47ms/step - loss: 45.6259 - mean_squared_error: 45.4632 - val_loss: 89.9693 - val_mean_squared_error: 89.9693\n",
      "Epoch 15/100\n",
      "2/2 [==============================] - 0s 46ms/step - loss: 48.7300 - mean_squared_error: 49.8582 - val_loss: 138.9217 - val_mean_squared_error: 138.9217\n",
      "Epoch 16/100\n",
      "2/2 [==============================] - 0s 38ms/step - loss: 39.3400 - mean_squared_error: 39.4877 - val_loss: 14.3770 - val_mean_squared_error: 14.3770\n",
      "Epoch 17/100\n",
      "2/2 [==============================] - 0s 35ms/step - loss: 25.3020 - mean_squared_error: 24.3119 - val_loss: 76.5954 - val_mean_squared_error: 76.5954\n",
      "Epoch 18/100\n",
      "2/2 [==============================] - 0s 42ms/step - loss: 30.9027 - mean_squared_error: 31.0872 - val_loss: 17.2939 - val_mean_squared_error: 17.2939\n",
      "Epoch 19/100\n",
      "2/2 [==============================] - 0s 28ms/step - loss: 22.3852 - mean_squared_error: 23.2721 - val_loss: 108.2696 - val_mean_squared_error: 108.2696\n",
      "Epoch 20/100\n",
      "2/2 [==============================] - 0s 47ms/step - loss: 28.1670 - mean_squared_error: 27.3576 - val_loss: 39.4636 - val_mean_squared_error: 39.4636\n",
      "Epoch 21/100\n",
      "2/2 [==============================] - 0s 42ms/step - loss: 17.1680 - mean_squared_error: 17.2749 - val_loss: 17.3523 - val_mean_squared_error: 17.3523\n",
      "Epoch 22/100\n",
      "2/2 [==============================] - 0s 28ms/step - loss: 24.1533 - mean_squared_error: 23.5079 - val_loss: 22.7359 - val_mean_squared_error: 22.7359\n",
      "Epoch 23/100\n",
      "2/2 [==============================] - 0s 32ms/step - loss: 13.9239 - mean_squared_error: 13.8713 - val_loss: 95.5865 - val_mean_squared_error: 95.5865\n",
      "Epoch 24/100\n",
      "2/2 [==============================] - 0s 34ms/step - loss: 16.9936 - mean_squared_error: 16.2546 - val_loss: 38.5001 - val_mean_squared_error: 38.5001\n",
      "Epoch 25/100\n",
      "2/2 [==============================] - 0s 31ms/step - loss: 9.5566 - mean_squared_error: 9.6617 - val_loss: 12.6089 - val_mean_squared_error: 12.6089\n",
      "Epoch 26/100\n",
      "2/2 [==============================] - 0s 42ms/step - loss: 17.9099 - mean_squared_error: 18.2498 - val_loss: 20.0300 - val_mean_squared_error: 20.0300\n",
      "Epoch 27/100\n",
      "2/2 [==============================] - 0s 33ms/step - loss: 12.0558 - mean_squared_error: 12.1753 - val_loss: 80.1249 - val_mean_squared_error: 80.1249\n",
      "Epoch 28/100\n",
      "2/2 [==============================] - 0s 22ms/step - loss: 13.5344 - mean_squared_error: 13.2964 - val_loss: 26.9160 - val_mean_squared_error: 26.9160\n",
      "Epoch 29/100\n",
      "2/2 [==============================] - 0s 28ms/step - loss: 14.9092 - mean_squared_error: 15.2166 - val_loss: 12.4980 - val_mean_squared_error: 12.4980\n",
      "Epoch 30/100\n",
      "2/2 [==============================] - 0s 49ms/step - loss: 11.8866 - mean_squared_error: 11.9104 - val_loss: 52.3209 - val_mean_squared_error: 52.3209\n",
      "Epoch 31/100\n",
      "2/2 [==============================] - 0s 33ms/step - loss: 13.2924 - mean_squared_error: 12.7926 - val_loss: 61.1784 - val_mean_squared_error: 61.1784\n",
      "Epoch 32/100\n",
      "2/2 [==============================] - 0s 50ms/step - loss: 19.8190 - mean_squared_error: 20.3849 - val_loss: 13.2760 - val_mean_squared_error: 13.2760\n",
      "Epoch 33/100\n",
      "2/2 [==============================] - 0s 35ms/step - loss: 15.7539 - mean_squared_error: 15.8121 - val_loss: 16.5115 - val_mean_squared_error: 16.5115\n",
      "Epoch 34/100\n",
      "2/2 [==============================] - 0s 22ms/step - loss: 10.6546 - mean_squared_error: 10.9209 - val_loss: 25.8020 - val_mean_squared_error: 25.8020\n",
      "Epoch 35/100\n",
      "2/2 [==============================] - 0s 19ms/step - loss: 16.3225 - mean_squared_error: 16.4111 - val_loss: 51.6422 - val_mean_squared_error: 51.6422\n",
      "Epoch 36/100\n",
      "2/2 [==============================] - 0s 42ms/step - loss: 17.8271 - mean_squared_error: 17.8850 - val_loss: 12.5100 - val_mean_squared_error: 12.5100\n",
      "Epoch 37/100\n",
      "2/2 [==============================] - 0s 35ms/step - loss: 20.5346 - mean_squared_error: 20.8655 - val_loss: 24.2903 - val_mean_squared_error: 24.2903\n",
      "Epoch 38/100\n",
      "2/2 [==============================] - 0s 27ms/step - loss: 15.6162 - mean_squared_error: 16.0174 - val_loss: 143.8454 - val_mean_squared_error: 143.8454\n",
      "Epoch 39/100\n",
      "2/2 [==============================] - 0s 22ms/step - loss: 20.0773 - mean_squared_error: 19.0773 - val_loss: 19.4267 - val_mean_squared_error: 19.4267\n",
      "Epoch 40/100\n",
      "2/2 [==============================] - 0s 40ms/step - loss: 20.2699 - mean_squared_error: 20.1925 - val_loss: 27.3298 - val_mean_squared_error: 27.3298\n",
      "Epoch 41/100\n",
      "2/2 [==============================] - 0s 50ms/step - loss: 14.8085 - mean_squared_error: 13.9817 - val_loss: 97.2287 - val_mean_squared_error: 97.2287\n",
      "Epoch 42/100\n",
      "2/2 [==============================] - 0s 40ms/step - loss: 20.8729 - mean_squared_error: 20.7933 - val_loss: 41.8269 - val_mean_squared_error: 41.8269\n",
      "Epoch 43/100\n",
      "2/2 [==============================] - 0s 31ms/step - loss: 14.1632 - mean_squared_error: 14.8963 - val_loss: 22.2902 - val_mean_squared_error: 22.2902\n",
      "Epoch 44/100\n",
      "2/2 [==============================] - 0s 28ms/step - loss: 18.5894 - mean_squared_error: 18.4456 - val_loss: 172.7938 - val_mean_squared_error: 172.7938\n",
      "Epoch 45/100\n",
      "2/2 [==============================] - 0s 29ms/step - loss: 20.0449 - mean_squared_error: 19.0608 - val_loss: 11.8727 - val_mean_squared_error: 11.8727\n",
      "Epoch 46/100\n",
      "2/2 [==============================] - 0s 30ms/step - loss: 13.0136 - mean_squared_error: 13.7616 - val_loss: 21.3905 - val_mean_squared_error: 21.3905\n",
      "Epoch 47/100\n",
      "2/2 [==============================] - 0s 40ms/step - loss: 11.4136 - mean_squared_error: 11.2762 - val_loss: 35.6139 - val_mean_squared_error: 35.6139\n",
      "Epoch 48/100\n",
      "2/2 [==============================] - 0s 46ms/step - loss: 15.1164 - mean_squared_error: 15.0265 - val_loss: 39.7707 - val_mean_squared_error: 39.7707\n",
      "Epoch 49/100\n",
      "2/2 [==============================] - 0s 42ms/step - loss: 13.7713 - mean_squared_error: 14.3891 - val_loss: 28.9490 - val_mean_squared_error: 28.9490\n",
      "Epoch 50/100\n"
     ]
    },
    {
     "name": "stdout",
     "output_type": "stream",
     "text": [
      "2/2 [==============================] - 0s 39ms/step - loss: 16.0561 - mean_squared_error: 16.8609 - val_loss: 46.9659 - val_mean_squared_error: 46.9659\n",
      "Epoch 51/100\n",
      "2/2 [==============================] - 0s 38ms/step - loss: 15.1945 - mean_squared_error: 14.6626 - val_loss: 184.1705 - val_mean_squared_error: 184.1705\n",
      "Epoch 52/100\n",
      "2/2 [==============================] - 0s 32ms/step - loss: 22.3969 - mean_squared_error: 23.2816 - val_loss: 61.3391 - val_mean_squared_error: 61.3391\n",
      "Epoch 53/100\n",
      "2/2 [==============================] - 0s 24ms/step - loss: 14.0793 - mean_squared_error: 13.8915 - val_loss: 59.3047 - val_mean_squared_error: 59.3047\n",
      "Epoch 54/100\n",
      "2/2 [==============================] - 0s 30ms/step - loss: 18.2517 - mean_squared_error: 19.0262 - val_loss: 17.0771 - val_mean_squared_error: 17.0771\n",
      "Epoch 55/100\n",
      "2/2 [==============================] - 0s 29ms/step - loss: 18.2436 - mean_squared_error: 18.9504 - val_loss: 66.4661 - val_mean_squared_error: 66.4661\n",
      "Epoch 56/100\n",
      "2/2 [==============================] - 0s 32ms/step - loss: 15.1661 - mean_squared_error: 15.1436 - val_loss: 11.6157 - val_mean_squared_error: 11.6157\n",
      "Epoch 57/100\n",
      "2/2 [==============================] - 0s 20ms/step - loss: 16.8349 - mean_squared_error: 17.4561 - val_loss: 12.6936 - val_mean_squared_error: 12.6936\n",
      "Epoch 58/100\n",
      "2/2 [==============================] - 0s 27ms/step - loss: 17.2446 - mean_squared_error: 16.7702 - val_loss: 318.6172 - val_mean_squared_error: 318.6172\n",
      "Epoch 59/100\n",
      "2/2 [==============================] - 0s 28ms/step - loss: 27.4909 - mean_squared_error: 27.8119 - val_loss: 15.5220 - val_mean_squared_error: 15.5220\n",
      "Epoch 60/100\n",
      "2/2 [==============================] - 0s 43ms/step - loss: 17.7746 - mean_squared_error: 18.5225 - val_loss: 60.5982 - val_mean_squared_error: 60.5982\n",
      "Epoch 61/100\n",
      "2/2 [==============================] - 0s 37ms/step - loss: 19.5407 - mean_squared_error: 18.8043 - val_loss: 37.3510 - val_mean_squared_error: 37.3510\n",
      "Epoch 62/100\n",
      "2/2 [==============================] - 0s 24ms/step - loss: 17.0205 - mean_squared_error: 16.4939 - val_loss: 74.5597 - val_mean_squared_error: 74.5597\n",
      "Epoch 63/100\n",
      "2/2 [==============================] - 0s 48ms/step - loss: 8.1417 - mean_squared_error: 8.2449 - val_loss: 79.3148 - val_mean_squared_error: 79.3148\n",
      "Epoch 64/100\n",
      "2/2 [==============================] - 0s 43ms/step - loss: 14.6762 - mean_squared_error: 15.2912 - val_loss: 124.0579 - val_mean_squared_error: 124.0579\n",
      "Epoch 65/100\n",
      "2/2 [==============================] - 0s 45ms/step - loss: 13.8427 - mean_squared_error: 14.5988 - val_loss: 45.3767 - val_mean_squared_error: 45.3767\n",
      "Epoch 66/100\n",
      "2/2 [==============================] - 0s 31ms/step - loss: 10.7934 - mean_squared_error: 11.1961 - val_loss: 21.9306 - val_mean_squared_error: 21.9306\n",
      "Epoch 67/100\n",
      "2/2 [==============================] - 0s 30ms/step - loss: 9.6994 - mean_squared_error: 9.6987 - val_loss: 24.1079 - val_mean_squared_error: 24.1079\n",
      "Epoch 68/100\n",
      "2/2 [==============================] - 0s 39ms/step - loss: 9.1281 - mean_squared_error: 9.3847 - val_loss: 12.1953 - val_mean_squared_error: 12.1953\n",
      "Epoch 69/100\n",
      "2/2 [==============================] - 0s 50ms/step - loss: 10.6876 - mean_squared_error: 11.0921 - val_loss: 14.1855 - val_mean_squared_error: 14.1855\n",
      "Epoch 70/100\n",
      "2/2 [==============================] - 0s 38ms/step - loss: 11.0873 - mean_squared_error: 10.9664 - val_loss: 79.9629 - val_mean_squared_error: 79.9629\n",
      "Epoch 71/100\n",
      "2/2 [==============================] - 0s 45ms/step - loss: 16.1781 - mean_squared_error: 16.3304 - val_loss: 13.4437 - val_mean_squared_error: 13.4437\n",
      "Epoch 72/100\n",
      "2/2 [==============================] - 0s 41ms/step - loss: 15.7838 - mean_squared_error: 15.4765 - val_loss: 65.8534 - val_mean_squared_error: 65.8534\n",
      "Epoch 73/100\n",
      "2/2 [==============================] - 0s 43ms/step - loss: 18.6644 - mean_squared_error: 17.5117 - val_loss: 33.6167 - val_mean_squared_error: 33.6167\n",
      "Epoch 74/100\n",
      "2/2 [==============================] - 0s 33ms/step - loss: 25.5565 - mean_squared_error: 26.6931 - val_loss: 16.1607 - val_mean_squared_error: 16.1607\n",
      "Epoch 75/100\n",
      "2/2 [==============================] - 0s 36ms/step - loss: 20.6020 - mean_squared_error: 20.5643 - val_loss: 15.5713 - val_mean_squared_error: 15.5713\n",
      "Epoch 76/100\n",
      "2/2 [==============================] - 0s 20ms/step - loss: 16.2636 - mean_squared_error: 15.9404 - val_loss: 179.9873 - val_mean_squared_error: 179.9873\n",
      "Epoch 77/100\n",
      "2/2 [==============================] - 0s 20ms/step - loss: 17.7674 - mean_squared_error: 17.4402 - val_loss: 29.7251 - val_mean_squared_error: 29.7251\n",
      "Epoch 78/100\n",
      "2/2 [==============================] - 0s 50ms/step - loss: 11.2844 - mean_squared_error: 11.9260 - val_loss: 14.2047 - val_mean_squared_error: 14.2047\n",
      "Epoch 79/100\n",
      "2/2 [==============================] - 0s 52ms/step - loss: 7.5048 - mean_squared_error: 7.4602 - val_loss: 58.4086 - val_mean_squared_error: 58.4086\n",
      "Epoch 80/100\n",
      "2/2 [==============================] - 0s 47ms/step - loss: 12.9346 - mean_squared_error: 13.4137 - val_loss: 111.8766 - val_mean_squared_error: 111.8766\n",
      "Epoch 81/100\n",
      "2/2 [==============================] - 0s 39ms/step - loss: 13.5640 - mean_squared_error: 13.2769 - val_loss: 13.5297 - val_mean_squared_error: 13.5297\n",
      "Epoch 82/100\n",
      "2/2 [==============================] - 0s 40ms/step - loss: 15.2767 - mean_squared_error: 15.9428 - val_loss: 16.2520 - val_mean_squared_error: 16.2520\n",
      "Epoch 83/100\n",
      "2/2 [==============================] - 0s 34ms/step - loss: 15.1692 - mean_squared_error: 15.2120 - val_loss: 113.9080 - val_mean_squared_error: 113.9080\n",
      "Epoch 84/100\n",
      "2/2 [==============================] - 0s 33ms/step - loss: 15.7642 - mean_squared_error: 15.5540 - val_loss: 53.4232 - val_mean_squared_error: 53.4232\n",
      "Epoch 85/100\n",
      "2/2 [==============================] - 0s 25ms/step - loss: 27.6389 - mean_squared_error: 28.8203 - val_loss: 14.2349 - val_mean_squared_error: 14.2349\n",
      "Epoch 86/100\n",
      "2/2 [==============================] - 0s 36ms/step - loss: 12.0245 - mean_squared_error: 12.2906 - val_loss: 279.5751 - val_mean_squared_error: 279.5751\n",
      "Epoch 87/100\n",
      "2/2 [==============================] - 0s 42ms/step - loss: 29.6696 - mean_squared_error: 27.5846 - val_loss: 11.7634 - val_mean_squared_error: 11.7634\n",
      "Epoch 88/100\n",
      "2/2 [==============================] - 0s 18ms/step - loss: 22.8754 - mean_squared_error: 23.5692 - val_loss: 13.2491 - val_mean_squared_error: 13.2491\n",
      "Epoch 89/100\n",
      "2/2 [==============================] - 0s 30ms/step - loss: 16.4479 - mean_squared_error: 15.9775 - val_loss: 98.4508 - val_mean_squared_error: 98.4508\n",
      "Epoch 90/100\n",
      "2/2 [==============================] - 0s 43ms/step - loss: 15.9386 - mean_squared_error: 16.4139 - val_loss: 33.8659 - val_mean_squared_error: 33.8659\n",
      "Epoch 91/100\n",
      "2/2 [==============================] - 0s 33ms/step - loss: 16.7258 - mean_squared_error: 17.0841 - val_loss: 17.3746 - val_mean_squared_error: 17.3746\n",
      "Epoch 92/100\n",
      "2/2 [==============================] - 0s 50ms/step - loss: 12.1402 - mean_squared_error: 12.0019 - val_loss: 79.4633 - val_mean_squared_error: 79.4633\n",
      "Epoch 93/100\n",
      "2/2 [==============================] - 0s 32ms/step - loss: 10.5286 - mean_squared_error: 10.5887 - val_loss: 73.9522 - val_mean_squared_error: 73.9522\n",
      "Epoch 94/100\n",
      "2/2 [==============================] - 0s 51ms/step - loss: 7.7349 - mean_squared_error: 7.5072 - val_loss: 17.3665 - val_mean_squared_error: 17.3665\n",
      "Epoch 95/100\n",
      "2/2 [==============================] - 0s 38ms/step - loss: 19.5076 - mean_squared_error: 19.7713 - val_loss: 32.8786 - val_mean_squared_error: 32.8786\n",
      "Epoch 96/100\n",
      "2/2 [==============================] - 0s 29ms/step - loss: 11.3876 - mean_squared_error: 11.7127 - val_loss: 59.2035 - val_mean_squared_error: 59.2035\n",
      "Epoch 97/100\n",
      "2/2 [==============================] - 0s 27ms/step - loss: 13.8505 - mean_squared_error: 13.7570 - val_loss: 16.2453 - val_mean_squared_error: 16.2453\n",
      "Epoch 98/100\n",
      "2/2 [==============================] - 0s 34ms/step - loss: 17.6542 - mean_squared_error: 17.8032 - val_loss: 137.7793 - val_mean_squared_error: 137.7793\n",
      "Epoch 99/100\n",
      "2/2 [==============================] - 0s 47ms/step - loss: 14.1256 - mean_squared_error: 13.7990 - val_loss: 26.8383 - val_mean_squared_error: 26.8383\n"
     ]
    },
    {
     "name": "stdout",
     "output_type": "stream",
     "text": [
      "Epoch 100/100\n",
      "2/2 [==============================] - 0s 44ms/step - loss: 9.8543 - mean_squared_error: 9.9277 - val_loss: 11.0143 - val_mean_squared_error: 11.0143\n",
      "CPU times: total: 3.14 s\n",
      "Wall time: 5.7 s\n"
     ]
    }
   ],
   "source": [
    "%%time\n",
    "# loss function\n",
    "#msle = MeanSquaredLogarithmicError()\n",
    "msle = MeanSquaredError()\n",
    "model.compile(\n",
    "    loss=msle, \n",
    "    optimizer=Adam(learning_rate=learning_rate), \n",
    "    metrics=[msle]\n",
    ")\n",
    "# train the model\n",
    "history = model.fit(\n",
    "    x_train_scaled.values, \n",
    "    y_train.values, \n",
    "    epochs=100, \n",
    "    batch_size=32,\n",
    "    validation_split=0.2\n",
    ")"
   ]
  },
  {
   "cell_type": "code",
   "execution_count": 6,
   "id": "9d7bd7e1",
   "metadata": {},
   "outputs": [
    {
     "data": {
      "image/png": "[encoded data removed]",
      "text/plain": [
       "<Figure size 432x288 with 1 Axes>"
      ]
     },
     "metadata": {
      "needs_background": "light"
     },
     "output_type": "display_data"
    }
   ],
   "source": [
    "def plot_history(history, key):\n",
    "  plt.plot(history.history[key])\n",
    "  plt.plot(history.history['val_'+key])\n",
    "  plt.title('DNN Mean squared error for AG Hydroponics system')\n",
    "  plt.xlabel(\"Epochs\")\n",
    "  plt.ylabel(key)\n",
    "  plt.legend([key, 'val_'+key])\n",
    "  plt.show()\n",
    "# Plot the history\n",
    "#plot_history(history, 'mean_squared_logarithmic_error')\n",
    "plot_history(history, 'mean_squared_error')"
   ]
  },
  {
   "cell_type": "code",
   "execution_count": 7,
   "id": "629936f3",
   "metadata": {},
   "outputs": [
    {
     "data": {
      "image/png": "[encoded data removed]",
      "text/plain": [
       "<Figure size 432x288 with 1 Axes>"
      ]
     },
     "metadata": {
      "needs_background": "light"
     },
     "output_type": "display_data"
    }
   ],
   "source": [
    "def plot_history(history, key):\n",
    "  plt.plot(history.history[key])\n",
    "  plt.plot(history.history['val_'+key])\n",
    "  plt.xlabel(\"Epochs\")\n",
    "  plt.ylabel(key)\n",
    "  plt.legend([key, 'val_'+key])\n",
    "  plt.show()\n",
    "# Plot the history\n",
    "#plot_history(history, 'mean_squared_logarithmic_error')\n",
    "plot_history(history, 'loss')"
   ]
  },
  {
   "cell_type": "code",
   "execution_count": 8,
   "id": "77263b3b",
   "metadata": {},
   "outputs": [
    {
     "name": "stdout",
     "output_type": "stream",
     "text": [
      "1/1 [==============================] - 0s 118ms/step\n"
     ]
    }
   ],
   "source": [
    "x_test['prediction'] = model.predict(x_test_scaled)"
   ]
  },
  {
   "cell_type": "code",
   "execution_count": 9,
   "id": "18d45585",
   "metadata": {},
   "outputs": [
    {
     "data": {
      "text/plain": [
       "0      70.021896\n",
       "1      72.232376\n",
       "2      75.343613\n",
       "3      76.951187\n",
       "4      78.289574\n",
       "5      79.312370\n",
       "6      81.029564\n",
       "7      82.118301\n",
       "8      86.007896\n",
       "9      88.204094\n",
       "10     89.029778\n",
       "11     90.570038\n",
       "12     93.441772\n",
       "13     95.729485\n",
       "14     96.079109\n",
       "15     96.042595\n",
       "16     99.282364\n",
       "17    103.150230\n",
       "Name: prediction, dtype: float32"
      ]
     },
     "execution_count": 9,
     "metadata": {},
     "output_type": "execute_result"
    }
   ],
   "source": [
    "x_test['prediction']"
   ]
  },
  {
   "cell_type": "code",
   "execution_count": 10,
   "id": "a68f6e0f",
   "metadata": {},
   "outputs": [],
   "source": [
    "#accuracy =[]\n",
    "#score = model.accuracy(X_test,y_test) \n",
    "#accuracy.append(score)"
   ]
  },
  {
   "cell_type": "code",
   "execution_count": 11,
   "id": "32bd64f8",
   "metadata": {},
   "outputs": [
    {
     "ename": "SyntaxError",
     "evalue": "invalid syntax (1068564517.py, line 1)",
     "output_type": "error",
     "traceback": [
      "\u001b[1;36m  Input \u001b[1;32mIn [11]\u001b[1;36m\u001b[0m\n\u001b[1;33m    model.\u001b[0m\n\u001b[1;37m          ^\u001b[0m\n\u001b[1;31mSyntaxError\u001b[0m\u001b[1;31m:\u001b[0m invalid syntax\n"
     ]
    }
   ],
   "source": [
    "model."
   ]
  }
 ],
 "metadata": {
  "kernelspec": {
   "display_name": "Python 3 (ipykernel)",
   "language": "python",
   "name": "python3"
  },
  "language_info": {
   "codemirror_mode": {
    "name": "ipython",
    "version": 3
   },
   "file_extension": ".py",
   "mimetype": "text/x-python",
   "name": "python",
   "nbconvert_exporter": "python",
   "pygments_lexer": "ipython3",
   "version": "3.9.12"
  }
 },
 "nbformat": 4,
 "nbformat_minor": 5
}
