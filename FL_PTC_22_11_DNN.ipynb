{
 "cells": [
  {
   "cell_type": "code",
   "execution_count": 1,
   "id": "8a53b981",
   "metadata": {},
   "outputs": [],
   "source": [
    "import math\n",
    "import pandas as pd\n",
    "import tensorflow as tf\n",
    "from tensorflow import keras\n",
    "from tensorflow.keras import layers\n",
    "import matplotlib.pyplot as plt\n",
    "from tensorflow.keras import Model\n",
    "from tensorflow.keras import Sequential\n",
    "from tensorflow.keras.optimizers import Adam\n",
    "from sklearn.preprocessing import StandardScaler\n",
    "from tensorflow.keras.layers import Dense, Dropout\n",
    "from sklearn.model_selection import train_test_split\n",
    "from tensorflow.keras.losses import MeanSquaredLogarithmicError\n",
    "from tensorflow.keras.losses import MeanSquaredError, MeanAbsoluteError\n",
    "from sklearn.metrics import accuracy_score\n",
    "TRAIN_DATA_PATH = 'FL_G_dataset-PTC_training.csv'\n",
    "TEST_DATA_PATH = 'FL_G_dataset-PTC_test.csv'\n",
    "TARGET_NAME = 'Diameter of Bulb(mm)'"
   ]
  },
  {
   "cell_type": "code",
   "execution_count": 2,
   "id": "542ef471",
   "metadata": {},
   "outputs": [],
   "source": [
    "# x_train = features, y_train = target\n",
    "train_data = pd.read_csv(TRAIN_DATA_PATH)\n",
    "test_data = pd.read_csv(TEST_DATA_PATH)\n",
    "x_train, y_train = train_data.drop(TARGET_NAME, axis=1), train_data[TARGET_NAME]\n",
    "x_test, y_test = test_data.drop(TARGET_NAME, axis=1), test_data[TARGET_NAME]"
   ]
  },
  {
   "cell_type": "code",
   "execution_count": 3,
   "id": "993918d2",
   "metadata": {},
   "outputs": [],
   "source": [
    "\"\"\"\n",
    "  Standard Scale test and train data\n",
    "  Z - Score normalization\n",
    "  \"\"\"\n",
    "def scale_datasets(x_train, x_test):\n",
    "    standard_scaler = StandardScaler()\n",
    "    x_train_scaled = pd.DataFrame(standard_scaler.fit_transform(x_train),columns=x_train.columns)\n",
    "    x_test_scaled = pd.DataFrame(standard_scaler.transform(x_test),columns = x_test.columns)\n",
    "    return x_train_scaled, x_test_scaled\n",
    "x_train_scaled, x_test_scaled = scale_datasets(x_train, x_test)"
   ]
  },
  {
   "cell_type": "code",
   "execution_count": 4,
   "id": "c338bc95",
   "metadata": {},
   "outputs": [],
   "source": [
    "hidden_units1 = 160\n",
    "hidden_units2 = 320\n",
    "hidden_units3 = 256\n",
    "learning_rate = 0.01\n",
    "# Creating model using the Sequential in tensorflow\n",
    "def build_model_using_sequential():\n",
    "  model = Sequential([\n",
    "    Dense(hidden_units1, kernel_initializer='normal', activation='relu'),\n",
    "    Dropout(0.2),\n",
    "    Dense(hidden_units2, kernel_initializer='normal', activation='relu'),\n",
    "    Dropout(0.2),\n",
    "    Dense(hidden_units3, kernel_initializer='normal', activation='relu'),\n",
    "    Dense(1, kernel_initializer='normal', activation='linear')\n",
    "  ])\n",
    "  return model\n",
    "# build the model\n",
    "model = build_model_using_sequential()"
   ]
  },
  {
   "cell_type": "code",
   "execution_count": 5,
   "id": "7ee97326",
   "metadata": {},
   "outputs": [
    {
     "name": "stdout",
     "output_type": "stream",
     "text": [
      "Epoch 1/100\n",
      "2/2 [==============================] - 1s 322ms/step - loss: 347.8187 - mean_squared_error: 344.5794 - val_loss: 221.5783 - val_mean_squared_error: 221.5783\n",
      "Epoch 2/100\n",
      "2/2 [==============================] - 0s 89ms/step - loss: 147.9308 - mean_squared_error: 147.1225 - val_loss: 129.4514 - val_mean_squared_error: 129.4514\n",
      "Epoch 3/100\n",
      "2/2 [==============================] - 0s 63ms/step - loss: 54.9786 - mean_squared_error: 52.8148 - val_loss: 2.4963 - val_mean_squared_error: 2.4963\n",
      "Epoch 4/100\n",
      "2/2 [==============================] - 0s 52ms/step - loss: 66.3925 - mean_squared_error: 66.1670 - val_loss: 14.7017 - val_mean_squared_error: 14.7017\n",
      "Epoch 5/100\n",
      "2/2 [==============================] - 0s 25ms/step - loss: 49.8180 - mean_squared_error: 48.5447 - val_loss: 3.4859 - val_mean_squared_error: 3.4859\n",
      "Epoch 6/100\n",
      "2/2 [==============================] - 0s 31ms/step - loss: 42.5012 - mean_squared_error: 41.7300 - val_loss: 6.2857 - val_mean_squared_error: 6.2857\n",
      "Epoch 7/100\n",
      "2/2 [==============================] - 0s 26ms/step - loss: 24.5286 - mean_squared_error: 24.4572 - val_loss: 53.3895 - val_mean_squared_error: 53.3895\n",
      "Epoch 8/100\n",
      "2/2 [==============================] - 0s 33ms/step - loss: 18.5138 - mean_squared_error: 18.6076 - val_loss: 37.0707 - val_mean_squared_error: 37.0707\n",
      "Epoch 9/100\n",
      "2/2 [==============================] - 0s 42ms/step - loss: 13.8806 - mean_squared_error: 13.8907 - val_loss: 0.7235 - val_mean_squared_error: 0.7235\n",
      "Epoch 10/100\n",
      "2/2 [==============================] - 0s 50ms/step - loss: 10.4195 - mean_squared_error: 10.3457 - val_loss: 38.2919 - val_mean_squared_error: 38.2919\n",
      "Epoch 11/100\n",
      "2/2 [==============================] - 0s 43ms/step - loss: 10.8200 - mean_squared_error: 10.6214 - val_loss: 37.9232 - val_mean_squared_error: 37.9232\n",
      "Epoch 12/100\n",
      "2/2 [==============================] - 0s 33ms/step - loss: 14.4722 - mean_squared_error: 14.1544 - val_loss: 3.2654 - val_mean_squared_error: 3.2654\n",
      "Epoch 13/100\n",
      "2/2 [==============================] - 0s 47ms/step - loss: 7.8389 - mean_squared_error: 7.5586 - val_loss: 0.7308 - val_mean_squared_error: 0.7308\n",
      "Epoch 14/100\n",
      "2/2 [==============================] - 0s 48ms/step - loss: 8.2819 - mean_squared_error: 8.4338 - val_loss: 1.0623 - val_mean_squared_error: 1.0623\n",
      "Epoch 15/100\n",
      "2/2 [==============================] - 0s 40ms/step - loss: 6.1670 - mean_squared_error: 6.4692 - val_loss: 6.0328 - val_mean_squared_error: 6.0328\n",
      "Epoch 16/100\n",
      "2/2 [==============================] - 0s 42ms/step - loss: 4.0644 - mean_squared_error: 3.9594 - val_loss: 4.6561 - val_mean_squared_error: 4.6561\n",
      "Epoch 17/100\n",
      "2/2 [==============================] - 0s 48ms/step - loss: 4.4280 - mean_squared_error: 4.3967 - val_loss: 0.3708 - val_mean_squared_error: 0.3708\n",
      "Epoch 18/100\n",
      "2/2 [==============================] - 0s 51ms/step - loss: 4.2034 - mean_squared_error: 4.2439 - val_loss: 2.1417 - val_mean_squared_error: 2.1417\n",
      "Epoch 19/100\n",
      "2/2 [==============================] - 0s 40ms/step - loss: 6.8385 - mean_squared_error: 6.6449 - val_loss: 1.0689 - val_mean_squared_error: 1.0689\n",
      "Epoch 20/100\n",
      "2/2 [==============================] - 0s 28ms/step - loss: 5.0593 - mean_squared_error: 4.9974 - val_loss: 0.7870 - val_mean_squared_error: 0.7870\n",
      "Epoch 21/100\n",
      "2/2 [==============================] - 0s 43ms/step - loss: 3.9185 - mean_squared_error: 3.9251 - val_loss: 0.6300 - val_mean_squared_error: 0.6300\n",
      "Epoch 22/100\n",
      "2/2 [==============================] - 0s 42ms/step - loss: 4.3660 - mean_squared_error: 4.4731 - val_loss: 1.0197 - val_mean_squared_error: 1.0197\n",
      "Epoch 23/100\n",
      "2/2 [==============================] - 0s 47ms/step - loss: 4.5901 - mean_squared_error: 4.6196 - val_loss: 2.7544 - val_mean_squared_error: 2.7544\n",
      "Epoch 24/100\n",
      "2/2 [==============================] - 0s 49ms/step - loss: 4.1357 - mean_squared_error: 4.0158 - val_loss: 3.0904 - val_mean_squared_error: 3.0904\n",
      "Epoch 25/100\n",
      "2/2 [==============================] - 0s 34ms/step - loss: 4.5633 - mean_squared_error: 4.7184 - val_loss: 3.0663 - val_mean_squared_error: 3.0663\n",
      "Epoch 26/100\n",
      "2/2 [==============================] - 0s 43ms/step - loss: 3.1552 - mean_squared_error: 3.1779 - val_loss: 0.8074 - val_mean_squared_error: 0.8074\n",
      "Epoch 27/100\n",
      "2/2 [==============================] - 0s 33ms/step - loss: 2.7606 - mean_squared_error: 2.7729 - val_loss: 0.7467 - val_mean_squared_error: 0.7467\n",
      "Epoch 28/100\n",
      "2/2 [==============================] - 0s 38ms/step - loss: 3.4692 - mean_squared_error: 3.5528 - val_loss: 0.7906 - val_mean_squared_error: 0.7906\n",
      "Epoch 29/100\n",
      "2/2 [==============================] - 0s 23ms/step - loss: 3.0561 - mean_squared_error: 3.0989 - val_loss: 0.6031 - val_mean_squared_error: 0.6031\n",
      "Epoch 30/100\n",
      "2/2 [==============================] - 0s 32ms/step - loss: 3.0303 - mean_squared_error: 2.9812 - val_loss: 0.5783 - val_mean_squared_error: 0.5783\n",
      "Epoch 31/100\n",
      "2/2 [==============================] - 0s 22ms/step - loss: 3.0153 - mean_squared_error: 2.9667 - val_loss: 1.3203 - val_mean_squared_error: 1.3203\n",
      "Epoch 32/100\n",
      "2/2 [==============================] - 0s 30ms/step - loss: 3.0949 - mean_squared_error: 3.1479 - val_loss: 0.5885 - val_mean_squared_error: 0.5885\n",
      "Epoch 33/100\n",
      "2/2 [==============================] - 0s 30ms/step - loss: 3.0821 - mean_squared_error: 3.0405 - val_loss: 2.6086 - val_mean_squared_error: 2.6086\n",
      "Epoch 34/100\n",
      "2/2 [==============================] - 0s 32ms/step - loss: 3.8719 - mean_squared_error: 3.8340 - val_loss: 0.9083 - val_mean_squared_error: 0.9083\n",
      "Epoch 35/100\n",
      "2/2 [==============================] - 0s 34ms/step - loss: 2.6554 - mean_squared_error: 2.6090 - val_loss: 0.5177 - val_mean_squared_error: 0.5177\n",
      "Epoch 36/100\n",
      "2/2 [==============================] - 0s 21ms/step - loss: 2.8634 - mean_squared_error: 2.8158 - val_loss: 2.2332 - val_mean_squared_error: 2.2332\n",
      "Epoch 37/100\n",
      "2/2 [==============================] - 0s 44ms/step - loss: 4.5787 - mean_squared_error: 4.4941 - val_loss: 0.4354 - val_mean_squared_error: 0.4354\n",
      "Epoch 38/100\n",
      "2/2 [==============================] - 0s 32ms/step - loss: 2.6058 - mean_squared_error: 2.6290 - val_loss: 0.7668 - val_mean_squared_error: 0.7668\n",
      "Epoch 39/100\n",
      "2/2 [==============================] - 0s 20ms/step - loss: 2.5119 - mean_squared_error: 2.4527 - val_loss: 0.6146 - val_mean_squared_error: 0.6146\n",
      "Epoch 40/100\n",
      "2/2 [==============================] - 0s 50ms/step - loss: 2.3642 - mean_squared_error: 2.3603 - val_loss: 0.9245 - val_mean_squared_error: 0.9245\n",
      "Epoch 41/100\n",
      "2/2 [==============================] - 0s 40ms/step - loss: 3.0737 - mean_squared_error: 3.0930 - val_loss: 1.4706 - val_mean_squared_error: 1.4706\n",
      "Epoch 42/100\n",
      "2/2 [==============================] - 0s 32ms/step - loss: 2.0079 - mean_squared_error: 2.0029 - val_loss: 0.7371 - val_mean_squared_error: 0.7371\n",
      "Epoch 43/100\n",
      "2/2 [==============================] - 0s 31ms/step - loss: 2.7994 - mean_squared_error: 2.6712 - val_loss: 0.4219 - val_mean_squared_error: 0.4219\n",
      "Epoch 44/100\n",
      "2/2 [==============================] - 0s 30ms/step - loss: 2.8223 - mean_squared_error: 2.8005 - val_loss: 1.3123 - val_mean_squared_error: 1.3123\n",
      "Epoch 45/100\n",
      "2/2 [==============================] - 0s 45ms/step - loss: 2.2898 - mean_squared_error: 2.3381 - val_loss: 0.8726 - val_mean_squared_error: 0.8726\n",
      "Epoch 46/100\n",
      "2/2 [==============================] - 0s 35ms/step - loss: 2.3114 - mean_squared_error: 2.2951 - val_loss: 0.9438 - val_mean_squared_error: 0.9438\n",
      "Epoch 47/100\n",
      "2/2 [==============================] - 0s 49ms/step - loss: 3.0773 - mean_squared_error: 3.1033 - val_loss: 0.8266 - val_mean_squared_error: 0.8266\n",
      "Epoch 48/100\n",
      "2/2 [==============================] - 0s 37ms/step - loss: 2.5650 - mean_squared_error: 2.4904 - val_loss: 0.8697 - val_mean_squared_error: 0.8697\n",
      "Epoch 49/100\n",
      "2/2 [==============================] - 0s 28ms/step - loss: 2.6691 - mean_squared_error: 2.6268 - val_loss: 0.6039 - val_mean_squared_error: 0.6039\n",
      "Epoch 50/100\n",
      "2/2 [==============================] - 0s 38ms/step - loss: 2.7663 - mean_squared_error: 2.7998 - val_loss: 0.6735 - val_mean_squared_error: 0.6735\n",
      "Epoch 51/100\n",
      "2/2 [==============================] - 0s 48ms/step - loss: 1.8862 - mean_squared_error: 1.8547 - val_loss: 0.5818 - val_mean_squared_error: 0.5818\n"
     ]
    },
    {
     "name": "stdout",
     "output_type": "stream",
     "text": [
      "Epoch 52/100\n",
      "2/2 [==============================] - 0s 32ms/step - loss: 2.7528 - mean_squared_error: 2.7966 - val_loss: 0.6730 - val_mean_squared_error: 0.6730\n",
      "Epoch 53/100\n",
      "2/2 [==============================] - 0s 50ms/step - loss: 2.9475 - mean_squared_error: 2.9463 - val_loss: 0.4436 - val_mean_squared_error: 0.4436\n",
      "Epoch 54/100\n",
      "2/2 [==============================] - 0s 43ms/step - loss: 1.6815 - mean_squared_error: 1.6222 - val_loss: 2.2162 - val_mean_squared_error: 2.2162\n",
      "Epoch 55/100\n",
      "2/2 [==============================] - 0s 27ms/step - loss: 3.0742 - mean_squared_error: 2.9327 - val_loss: 0.4299 - val_mean_squared_error: 0.4299\n",
      "Epoch 56/100\n",
      "2/2 [==============================] - 0s 40ms/step - loss: 3.2481 - mean_squared_error: 3.3007 - val_loss: 0.4644 - val_mean_squared_error: 0.4644\n",
      "Epoch 57/100\n",
      "2/2 [==============================] - 0s 32ms/step - loss: 2.1696 - mean_squared_error: 2.1456 - val_loss: 1.3022 - val_mean_squared_error: 1.3022\n",
      "Epoch 58/100\n",
      "2/2 [==============================] - 0s 39ms/step - loss: 3.1885 - mean_squared_error: 3.1346 - val_loss: 0.6121 - val_mean_squared_error: 0.6121\n",
      "Epoch 59/100\n",
      "2/2 [==============================] - 0s 48ms/step - loss: 1.9444 - mean_squared_error: 1.9233 - val_loss: 3.1225 - val_mean_squared_error: 3.1225\n",
      "Epoch 60/100\n",
      "2/2 [==============================] - 0s 39ms/step - loss: 2.5732 - mean_squared_error: 2.6175 - val_loss: 2.8585 - val_mean_squared_error: 2.8585\n",
      "Epoch 61/100\n",
      "2/2 [==============================] - 0s 25ms/step - loss: 2.7193 - mean_squared_error: 2.7432 - val_loss: 0.4642 - val_mean_squared_error: 0.4642\n",
      "Epoch 62/100\n",
      "2/2 [==============================] - 0s 24ms/step - loss: 3.2073 - mean_squared_error: 3.1830 - val_loss: 2.1025 - val_mean_squared_error: 2.1025\n",
      "Epoch 63/100\n",
      "2/2 [==============================] - 0s 36ms/step - loss: 2.5581 - mean_squared_error: 2.4802 - val_loss: 0.6848 - val_mean_squared_error: 0.6848\n",
      "Epoch 64/100\n",
      "2/2 [==============================] - 0s 38ms/step - loss: 3.3893 - mean_squared_error: 3.4678 - val_loss: 2.0078 - val_mean_squared_error: 2.0078\n",
      "Epoch 65/100\n",
      "2/2 [==============================] - 0s 52ms/step - loss: 2.1803 - mean_squared_error: 2.1691 - val_loss: 1.5958 - val_mean_squared_error: 1.5958\n",
      "Epoch 66/100\n",
      "2/2 [==============================] - 0s 42ms/step - loss: 2.4808 - mean_squared_error: 2.4436 - val_loss: 0.3877 - val_mean_squared_error: 0.3877\n",
      "Epoch 67/100\n",
      "2/2 [==============================] - 0s 41ms/step - loss: 3.6317 - mean_squared_error: 3.6091 - val_loss: 0.6528 - val_mean_squared_error: 0.6528\n",
      "Epoch 68/100\n",
      "2/2 [==============================] - 0s 44ms/step - loss: 2.1985 - mean_squared_error: 2.2541 - val_loss: 0.5793 - val_mean_squared_error: 0.5793\n",
      "Epoch 69/100\n",
      "2/2 [==============================] - 0s 32ms/step - loss: 2.5550 - mean_squared_error: 2.5672 - val_loss: 0.4361 - val_mean_squared_error: 0.4361\n",
      "Epoch 70/100\n",
      "2/2 [==============================] - 0s 30ms/step - loss: 3.1156 - mean_squared_error: 3.2008 - val_loss: 0.4627 - val_mean_squared_error: 0.4627\n",
      "Epoch 71/100\n",
      "2/2 [==============================] - 0s 32ms/step - loss: 3.2950 - mean_squared_error: 3.2360 - val_loss: 2.6895 - val_mean_squared_error: 2.6895\n",
      "Epoch 72/100\n",
      "2/2 [==============================] - 0s 39ms/step - loss: 2.2264 - mean_squared_error: 2.2547 - val_loss: 0.3861 - val_mean_squared_error: 0.3861\n",
      "Epoch 73/100\n",
      "2/2 [==============================] - 0s 36ms/step - loss: 2.1936 - mean_squared_error: 2.1543 - val_loss: 0.4294 - val_mean_squared_error: 0.4294\n",
      "Epoch 74/100\n",
      "2/2 [==============================] - 0s 20ms/step - loss: 1.9656 - mean_squared_error: 1.9574 - val_loss: 0.4106 - val_mean_squared_error: 0.4106\n",
      "Epoch 75/100\n",
      "2/2 [==============================] - 0s 39ms/step - loss: 2.9439 - mean_squared_error: 2.8822 - val_loss: 1.1856 - val_mean_squared_error: 1.1856\n",
      "Epoch 76/100\n",
      "2/2 [==============================] - 0s 37ms/step - loss: 3.9459 - mean_squared_error: 3.8712 - val_loss: 2.3093 - val_mean_squared_error: 2.3093\n",
      "Epoch 77/100\n",
      "2/2 [==============================] - 0s 37ms/step - loss: 3.6853 - mean_squared_error: 3.5373 - val_loss: 3.5703 - val_mean_squared_error: 3.5703\n",
      "Epoch 78/100\n",
      "2/2 [==============================] - 0s 40ms/step - loss: 4.7077 - mean_squared_error: 4.5983 - val_loss: 4.3725 - val_mean_squared_error: 4.3725\n",
      "Epoch 79/100\n",
      "2/2 [==============================] - 0s 42ms/step - loss: 5.8912 - mean_squared_error: 5.9012 - val_loss: 1.2041 - val_mean_squared_error: 1.2041\n",
      "Epoch 80/100\n",
      "2/2 [==============================] - 0s 23ms/step - loss: 7.9640 - mean_squared_error: 8.5618 - val_loss: 0.9433 - val_mean_squared_error: 0.9433\n",
      "Epoch 81/100\n",
      "2/2 [==============================] - 0s 28ms/step - loss: 3.6430 - mean_squared_error: 3.7866 - val_loss: 12.0061 - val_mean_squared_error: 12.0061\n",
      "Epoch 82/100\n",
      "2/2 [==============================] - 0s 22ms/step - loss: 5.8482 - mean_squared_error: 5.8185 - val_loss: 1.5188 - val_mean_squared_error: 1.5188\n",
      "Epoch 83/100\n",
      "2/2 [==============================] - 0s 27ms/step - loss: 6.7074 - mean_squared_error: 6.8788 - val_loss: 0.5013 - val_mean_squared_error: 0.5013\n",
      "Epoch 84/100\n",
      "2/2 [==============================] - 0s 45ms/step - loss: 7.4332 - mean_squared_error: 7.9584 - val_loss: 1.5057 - val_mean_squared_error: 1.5057\n",
      "Epoch 85/100\n",
      "2/2 [==============================] - 0s 37ms/step - loss: 4.9021 - mean_squared_error: 4.8166 - val_loss: 6.1211 - val_mean_squared_error: 6.1211\n",
      "Epoch 86/100\n",
      "2/2 [==============================] - 0s 26ms/step - loss: 4.3252 - mean_squared_error: 4.1771 - val_loss: 9.6137 - val_mean_squared_error: 9.6137\n",
      "Epoch 87/100\n",
      "2/2 [==============================] - 0s 48ms/step - loss: 5.6236 - mean_squared_error: 5.6773 - val_loss: 5.3262 - val_mean_squared_error: 5.3262\n",
      "Epoch 88/100\n",
      "2/2 [==============================] - 0s 32ms/step - loss: 2.4140 - mean_squared_error: 2.4433 - val_loss: 2.3677 - val_mean_squared_error: 2.3677\n",
      "Epoch 89/100\n",
      "2/2 [==============================] - 0s 37ms/step - loss: 4.4592 - mean_squared_error: 4.2382 - val_loss: 0.5353 - val_mean_squared_error: 0.5353\n",
      "Epoch 90/100\n",
      "2/2 [==============================] - 0s 37ms/step - loss: 4.4936 - mean_squared_error: 4.4729 - val_loss: 1.2032 - val_mean_squared_error: 1.2032\n",
      "Epoch 91/100\n",
      "2/2 [==============================] - 0s 54ms/step - loss: 2.7220 - mean_squared_error: 2.7363 - val_loss: 6.2054 - val_mean_squared_error: 6.2054\n",
      "Epoch 92/100\n",
      "2/2 [==============================] - 0s 28ms/step - loss: 5.2490 - mean_squared_error: 5.0079 - val_loss: 3.5791 - val_mean_squared_error: 3.5791\n",
      "Epoch 93/100\n",
      "2/2 [==============================] - 0s 49ms/step - loss: 4.1959 - mean_squared_error: 4.0971 - val_loss: 0.5181 - val_mean_squared_error: 0.5181\n",
      "Epoch 94/100\n",
      "2/2 [==============================] - 0s 51ms/step - loss: 2.6676 - mean_squared_error: 2.7250 - val_loss: 7.4041 - val_mean_squared_error: 7.4041\n",
      "Epoch 95/100\n",
      "2/2 [==============================] - 0s 50ms/step - loss: 6.2608 - mean_squared_error: 5.8932 - val_loss: 1.3302 - val_mean_squared_error: 1.3302\n",
      "Epoch 96/100\n",
      "2/2 [==============================] - 0s 40ms/step - loss: 6.4139 - mean_squared_error: 6.2440 - val_loss: 4.3644 - val_mean_squared_error: 4.3644\n",
      "Epoch 97/100\n",
      "2/2 [==============================] - 0s 25ms/step - loss: 3.7277 - mean_squared_error: 3.8158 - val_loss: 16.5720 - val_mean_squared_error: 16.5720\n",
      "Epoch 98/100\n",
      "2/2 [==============================] - 0s 18ms/step - loss: 4.0772 - mean_squared_error: 3.9236 - val_loss: 1.9279 - val_mean_squared_error: 1.9279\n",
      "Epoch 99/100\n",
      "2/2 [==============================] - 0s 18ms/step - loss: 5.4366 - mean_squared_error: 5.4529 - val_loss: 0.4668 - val_mean_squared_error: 0.4668\n",
      "Epoch 100/100\n",
      "2/2 [==============================] - 0s 51ms/step - loss: 2.7678 - mean_squared_error: 2.6991 - val_loss: 2.2880 - val_mean_squared_error: 2.2880\n",
      "CPU times: total: 3.22 s\n",
      "Wall time: 5.86 s\n"
     ]
    }
   ],
   "source": [
    "%%time\n",
    "# loss function\n",
    "#msle = MeanSquaredLogarithmicError()\n",
    "msle = MeanSquaredError()\n",
    "model.compile(\n",
    "    loss=msle, \n",
    "    optimizer=Adam(learning_rate=learning_rate), \n",
    "    metrics=[msle]\n",
    ")\n",
    "# train the model\n",
    "history = model.fit(\n",
    "    x_train_scaled.values, \n",
    "    y_train.values, \n",
    "    epochs=100, \n",
    "    batch_size=32,\n",
    "    validation_split=0.2\n",
    ")"
   ]
  },
  {
   "cell_type": "code",
   "execution_count": 6,
   "id": "9d7bd7e1",
   "metadata": {},
   "outputs": [
    {
     "data": {
      "image/png": "[encoded data removed]",
      "text/plain": [
       "<Figure size 432x288 with 1 Axes>"
      ]
     },
     "metadata": {
      "needs_background": "light"
     },
     "output_type": "display_data"
    }
   ],
   "source": [
    "def plot_history(history, key):\n",
    "  plt.plot(history.history[key])\n",
    "  plt.plot(history.history['val_'+key])\n",
    "  plt.title('DNN Mean squared error for FL Hydroponics system')\n",
    "  plt.xlabel(\"Epochs\")\n",
    "  plt.ylabel(key)\n",
    "  plt.legend([key, 'val_'+key])\n",
    "  plt.show()\n",
    "# Plot the history\n",
    "#plot_history(history, 'mean_squared_logarithmic_error')\n",
    "plot_history(history, 'mean_squared_error')"
   ]
  },
  {
   "cell_type": "code",
   "execution_count": 7,
   "id": "5d6b4007",
   "metadata": {},
   "outputs": [
    {
     "data": {
      "image/png": "[encoded data removed]",
      "text/plain": [
       "<Figure size 432x288 with 1 Axes>"
      ]
     },
     "metadata": {
      "needs_background": "light"
     },
     "output_type": "display_data"
    }
   ],
   "source": [
    "def plot_history(history, key):\n",
    "  plt.plot(history.history[key])\n",
    "  plt.plot(history.history['val_'+key])\n",
    "  plt.xlabel(\"Epochs\")\n",
    "  plt.ylabel(key)\n",
    "  plt.legend([key, 'val_'+key])\n",
    "  plt.show()\n",
    "# Plot the history\n",
    "#plot_history(history, 'mean_squared_logarithmic_error')\n",
    "plot_history(history, 'loss')"
   ]
  },
  {
   "cell_type": "code",
   "execution_count": 8,
   "id": "77263b3b",
   "metadata": {},
   "outputs": [
    {
     "name": "stdout",
     "output_type": "stream",
     "text": [
      "1/1 [==============================] - 0s 110ms/step\n"
     ]
    }
   ],
   "source": [
    "#x_test['prediction'] = model.predict(x_test_scaled)\n",
    "prediction = model.predict(x_test_scaled)"
   ]
  },
  {
   "cell_type": "code",
   "execution_count": 9,
   "id": "18d45585",
   "metadata": {},
   "outputs": [
    {
     "data": {
      "text/plain": [
       "(18, 1)"
      ]
     },
     "execution_count": 9,
     "metadata": {},
     "output_type": "execute_result"
    }
   ],
   "source": [
    "prediction.shape"
   ]
  },
  {
   "cell_type": "code",
   "execution_count": null,
   "id": "a68f6e0f",
   "metadata": {},
   "outputs": [],
   "source": []
  },
  {
   "cell_type": "code",
   "execution_count": 10,
   "id": "32bd64f8",
   "metadata": {},
   "outputs": [
    {
     "ename": "SyntaxError",
     "evalue": "invalid syntax (1068564517.py, line 1)",
     "output_type": "error",
     "traceback": [
      "\u001b[1;36m  Input \u001b[1;32mIn [10]\u001b[1;36m\u001b[0m\n\u001b[1;33m    model.\u001b[0m\n\u001b[1;37m          ^\u001b[0m\n\u001b[1;31mSyntaxError\u001b[0m\u001b[1;31m:\u001b[0m invalid syntax\n"
     ]
    }
   ],
   "source": [
    "model."
   ]
  }
 ],
 "metadata": {
  "kernelspec": {
   "display_name": "Python 3 (ipykernel)",
   "language": "python",
   "name": "python3"
  },
  "language_info": {
   "codemirror_mode": {
    "name": "ipython",
    "version": 3
   },
   "file_extension": ".py",
   "mimetype": "text/x-python",
   "name": "python",
   "nbconvert_exporter": "python",
   "pygments_lexer": "ipython3",
   "version": "3.9.12"
  }
 },
 "nbformat": 4,
 "nbformat_minor": 5
}
